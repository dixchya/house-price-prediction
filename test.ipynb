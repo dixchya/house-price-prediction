{
 "cells": [
  {
   "cell_type": "code",
   "execution_count": 5,
   "metadata": {},
   "outputs": [
    {
     "name": "stdout",
     "output_type": "stream",
     "text": [
      "<class 'pandas.core.frame.DataFrame'>\n",
      "RangeIndex: 22489348 entries, 0 to 22489347\n",
      "Data columns (total 11 columns):\n",
      " #   Column                             Dtype \n",
      "---  ------                             ----- \n",
      " 0   Transaction unique identifier      object\n",
      " 1   Price                              int64 \n",
      " 2   Date of Transfer                   object\n",
      " 3   Property Type                      object\n",
      " 4   Old/New                            object\n",
      " 5   Duration                           object\n",
      " 6   Town/City                          object\n",
      " 7   District                           object\n",
      " 8   County                             object\n",
      " 9   PPDCategory Type                   object\n",
      " 10  Record Status - monthly file only  object\n",
      "dtypes: int64(1), object(10)\n",
      "memory usage: 1.8+ GB\n",
      "<class 'pandas.core.frame.DataFrame'>\n",
      "RangeIndex: 22489348 entries, 0 to 22489347\n",
      "Data columns (total 11 columns):\n",
      " #   Column                             Dtype         \n",
      "---  ------                             -----         \n",
      " 0   Transaction unique identifier      object        \n",
      " 1   Price                              int64         \n",
      " 2   Date of Transfer                   datetime64[ns]\n",
      " 3   Property Type                      object        \n",
      " 4   Old/New                            object        \n",
      " 5   Duration                           object        \n",
      " 6   Town/City                          object        \n",
      " 7   District                           object        \n",
      " 8   County                             object        \n",
      " 9   PPDCategory Type                   object        \n",
      " 10  Record Status - monthly file only  object        \n",
      "dtypes: datetime64[ns](1), int64(1), object(9)\n",
      "memory usage: 1.8+ GB\n"
     ]
    }
   ],
   "source": [
    "import pandas as pd\n",
    "df = pd.read_csv('/Users/dixchyaregmi/Downloads/price_paid_records.csv')\n",
    "df.head()\n",
    "df.info()\n",
    "df['Date of Transfer'] = pd.to_datetime(df['Date of Transfer'])\n",
    "df.info()"
   ]
  },
  {
   "cell_type": "markdown",
   "metadata": {},
   "source": []
  }
 ],
 "metadata": {
  "kernelspec": {
   "display_name": "Python 3",
   "language": "python",
   "name": "python3"
  },
  "language_info": {
   "codemirror_mode": {
    "name": "ipython",
    "version": 3
   },
   "file_extension": ".py",
   "mimetype": "text/x-python",
   "name": "python",
   "nbconvert_exporter": "python",
   "pygments_lexer": "ipython3",
   "version": "3.9.6"
  }
 },
 "nbformat": 4,
 "nbformat_minor": 2
}
